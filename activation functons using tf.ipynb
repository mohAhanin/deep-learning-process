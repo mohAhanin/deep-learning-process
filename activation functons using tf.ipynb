{
  "nbformat": 4,
  "nbformat_minor": 0,
  "metadata": {
    "colab": {
      "provenance": []
    },
    "kernelspec": {
      "name": "python3",
      "display_name": "Python 3"
    },
    "language_info": {
      "name": "python"
    }
  },
  "cells": [
    {
      "cell_type": "code",
      "execution_count": null,
      "metadata": {
        "colab": {
          "base_uri": "https://localhost:8080/"
        },
        "id": "HSScdAOHZZ16",
        "outputId": "21b3923c-c882-4bb0-a64d-ef96825a371f"
      },
      "outputs": [
        {
          "output_type": "stream",
          "name": "stdout",
          "text": [
            "Epoch 1/5\n",
            "1723/1875 [==========================>...] - ETA: 0s - loss: 0.2658 - accuracy: 0.9241"
          ]
        }
      ],
      "source": [
        "import numpy as np\n",
        "import tensorflow as tf\n",
        "from tensorflow import keras\n",
        "from tensorflow.keras import layers\n",
        "\n",
        "# Load the MNIST dataset\n",
        "(x_train, y_train), (x_test, y_test) = keras.datasets.mnist.load_data()\n",
        "# Preprocess the data\n",
        "x_train = x_train.reshape(x_train.shape[0], 28 * 28).astype('float32') / 255\n",
        "x_test = x_test.reshape(x_test.shape[0], 28 * 28).astype('float32') / 255\n",
        "# Convert labels to one-hot encodings\n",
        "y_train = keras.utils.to_categorical(y_train, 10)\n",
        "y_test = keras.utils.to_categorical(y_test, 10)\n",
        "# Define the activation functions\n",
        "def sigmoid(x):\n",
        "    return 1 / (1 + np.exp(-x))\n",
        "def relu(x):\n",
        "    return np.maximum(0, x)\n",
        "def tanh(x):\n",
        "    return np.tanh(x)\n",
        "def leaky_relu(x, alpha=0.01):\n",
        "    return np.maximum(alpha * x, x)\n",
        "def softmax(x):\n",
        "    exp_x = np.exp(x)\n",
        "    return exp_x / np.sum(exp_x, axis=1, keepdims=True)\n",
        "# Build the model\n",
        "model = keras.Sequential([\n",
        "    layers.Dense(128, input_shape=(28 * 28,), activation='relu'),\n",
        "    layers.Dense(10, activation='softmax')\n",
        "])\n",
        "# Compile the model\n",
        "model.compile(optimizer='adam', loss='categorical_crossentropy', metrics=['accuracy'])\n",
        "# Train the model\n",
        "model.fit(x_train, y_train, epochs=5, batch_size=32)\n",
        "# Evaluate the model on the test set\n",
        "test_loss, test_acc = model.evaluate(x_test, y_test)\n",
        "print('Test Loss:', test_loss)\n",
        "print('Test Accuracy:', test_acc)"
      ]
    },
    {
      "cell_type": "code",
      "source": [],
      "metadata": {
        "id": "JgrUbZa_aI8w"
      },
      "execution_count": null,
      "outputs": []
    }
  ]
}